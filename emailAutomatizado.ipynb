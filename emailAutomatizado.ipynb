{
 "cells": [
  {
   "cell_type": "code",
   "execution_count": 24,
   "metadata": {},
   "outputs": [],
   "source": [
    "\"\"\"\n",
    "Automação de Sistemas e Processos com Python\n",
    "Desafio:\n",
    "Todos os dias, o nosso sistema atualiza as vendas do dia anterior. O seu trabalho diário, como analista, \n",
    "é enviar um e-mail para a diretoria, assim que começar a trabalhar, com o faturamento e a quantidade de \n",
    "produtos vendidos no dia anterior\n",
    "\n",
    "E-mail da diretoria: seugmail+diretoria@gmail.com\n",
    "Local onde o sistema disponibiliza as vendas do dia anterior: https://drive.google.com/drive/folders/1mhXZ3JPAnekXP_4vX7Z_sJj35VWqayaR?usp=sharing\n",
    "\n",
    "Para resolver isso, vamos usar o pyautogui, uma biblioteca de automação de comandos do mouse e do teclado\n",
    "\"\"\"\n",
    "\n",
    "import pyautogui\n",
    "import time\n",
    "import pyperclip\n",
    "import pandas as pd\n",
    "\n",
    "pyautogui.PAUSE = 1 #intervalo entre clicks\n",
    "\n",
    "pyautogui.alert(\"Vai comecar, aperte OK e nao mexa em nada\")\n",
    "pyautogui.hotkey('ctrl','t')\n",
    "\n",
    "link = \"https://drive.google.com/drive/folders/1wRTFw0sUVBjRr4hW5U9LF7DjLixRyxym\" #local da planilha\n",
    "pyperclip.copy(link)\n",
    "pyautogui.hotkey(\"ctrl\",\"v\")\n",
    "pyautogui.press(\"enter\")\n",
    "time.sleep(5)\n",
    "pyautogui.click(382,401) #clica no arquivo\n",
    "pyautogui.click(1713,155) #3 pontinhos\n",
    "pyautogui.click(1558,568) #clica em download\n",
    "time.sleep(2)\n",
    "pyautogui.click(931,965) #permissao para salvar arquivo\n",
    "time.sleep(5)\n",
    "\n",
    "df = pd.read_excel(\"C:/.../Vendas - Dez.xlsx\")\n",
    "faturamento = df[\"Valor Final\"].sum()\n",
    "qtde_produtos = df[\"Quantidade\"].sum()\n",
    "\n",
    "pyautogui.hotkey(\"ctrl\", \"t\") #nova aba\n",
    "link2 = \"https://mail.google.com/mail/u/0/#inbox\"\n",
    "pyperclip.copy(link2)\n",
    "pyautogui.hotkey(\"ctrl\",\"v\")\n",
    "pyautogui.press(\"enter\")\n",
    "time.sleep(5)\n",
    "pyautogui.click(59,172) #clica em enviar\n",
    "time.sleep(3)\n",
    "pyautogui.write(\"email@gmail.com\")\n",
    "pyautogui.press(\"tab\")\n",
    "pyautogui.press(\"tab\")\n",
    "pyautogui.write(\"Relatorio de Vendas\")\n",
    "pyautogui.press(\"tab\")\n",
    "texto = f\"\"\" O faturamento foi de: {faturamento:,.2f}\n",
    "A qntd de produtos vendida: {qtde_produtos:,} \"\"\"\n",
    "pyperclip.copy(texto)\n",
    "pyautogui.hotkey(\"ctrl\", \"v\")\n",
    "pyautogui.hotkey(\"ctrl\",\"enter\")"
   ]
  },
  {
   "cell_type": "code",
   "execution_count": 17,
   "metadata": {},
   "outputs": [
    {
     "data": {
      "text/plain": [
       "Point(x=59, y=172)"
      ]
     },
     "execution_count": 17,
     "metadata": {},
     "output_type": "execute_result"
    }
   ],
   "source": [
    "\"\"\"\n",
    "Econtrando o pixel para o ponteiro do mouse\n",
    "time.sleep(5)\n",
    "pyautogui.position()\n",
    "\"\"\""
   ]
  }
 ],
 "metadata": {
  "kernelspec": {
   "display_name": "Python 3",
   "language": "python",
   "name": "python3"
  },
  "language_info": {
   "codemirror_mode": {
    "name": "ipython",
    "version": 3
   },
   "file_extension": ".py",
   "mimetype": "text/x-python",
   "name": "python",
   "nbconvert_exporter": "python",
   "pygments_lexer": "ipython3",
   "version": "3.8.5"
  }
 },
 "nbformat": 4,
 "nbformat_minor": 4
}
